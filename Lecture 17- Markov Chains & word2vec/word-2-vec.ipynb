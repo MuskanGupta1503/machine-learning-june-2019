{
 "cells": [
  {
   "cell_type": "code",
   "execution_count": 1,
   "metadata": {},
   "outputs": [
    {
     "name": "stdout",
     "output_type": "stream",
     "text": [
      "Requirement already satisfied: gensim in /home/rachit/.local/lib/python3.7/site-packages (3.8.0)\n",
      "Requirement already satisfied: scipy>=0.18.1 in /home/rachit/.local/lib/python3.7/site-packages (from gensim) (1.3.0)\n",
      "Requirement already satisfied: smart-open>=1.7.0 in /home/rachit/.local/lib/python3.7/site-packages (from gensim) (1.8.4)\n",
      "Requirement already satisfied: six>=1.5.0 in /usr/lib/python3/dist-packages (from gensim) (1.12.0)\n",
      "Requirement already satisfied: numpy>=1.11.3 in /home/rachit/.local/lib/python3.7/site-packages (from gensim) (1.16.4)\n",
      "Requirement already satisfied: boto>=2.32 in /home/rachit/.local/lib/python3.7/site-packages (from smart-open>=1.7.0->gensim) (2.49.0)\n",
      "Requirement already satisfied: requests in /usr/lib/python3/dist-packages (from smart-open>=1.7.0->gensim) (2.21.0)\n",
      "Requirement already satisfied: boto3 in /home/rachit/.local/lib/python3.7/site-packages (from smart-open>=1.7.0->gensim) (1.9.189)\n",
      "Requirement already satisfied: s3transfer<0.3.0,>=0.2.0 in /home/rachit/.local/lib/python3.7/site-packages (from boto3->smart-open>=1.7.0->gensim) (0.2.1)\n",
      "Requirement already satisfied: jmespath<1.0.0,>=0.7.1 in /home/rachit/.local/lib/python3.7/site-packages (from boto3->smart-open>=1.7.0->gensim) (0.9.4)\n",
      "Requirement already satisfied: botocore<1.13.0,>=1.12.189 in /home/rachit/.local/lib/python3.7/site-packages (from boto3->smart-open>=1.7.0->gensim) (1.12.189)\n",
      "Requirement already satisfied: docutils>=0.10 in /home/rachit/.local/lib/python3.7/site-packages (from botocore<1.13.0,>=1.12.189->boto3->smart-open>=1.7.0->gensim) (0.14)\n",
      "Requirement already satisfied: python-dateutil<3.0.0,>=2.1; python_version >= \"2.7\" in /usr/lib/python3/dist-packages (from botocore<1.13.0,>=1.12.189->boto3->smart-open>=1.7.0->gensim) (2.7.3)\n",
      "Requirement already satisfied: urllib3<1.26,>=1.20; python_version >= \"3.4\" in /usr/lib/python3/dist-packages (from botocore<1.13.0,>=1.12.189->boto3->smart-open>=1.7.0->gensim) (1.24.1)\n"
     ]
    }
   ],
   "source": [
    "!pip3 install gensim"
   ]
  },
  {
   "cell_type": "code",
   "execution_count": 2,
   "metadata": {},
   "outputs": [
    {
     "name": "stderr",
     "output_type": "stream",
     "text": [
      "/usr/lib/python3.7/importlib/_bootstrap.py:219: RuntimeWarning: numpy.ufunc size changed, may indicate binary incompatibility. Expected 192 from C header, got 216 from PyObject\n",
      "  return f(*args, **kwds)\n"
     ]
    }
   ],
   "source": [
    "from gensim.models import word2vec, KeyedVectors\n",
    "from sklearn.metrics.pairwise import cosine_similarity"
   ]
  },
  {
   "cell_type": "code",
   "execution_count": 3,
   "metadata": {},
   "outputs": [],
   "source": [
    "input_1 = [\"apple\",\"mango\",\"juice\",\"party\",\"orange\"] \n",
    "input_2 = [\"music\",\"dance\",\"sleep\",\"dancer\",\"food\"]        \n",
    "input_3  = [\"match\",\"player\",\"football\",\"cricket\",\"dancer\"]\n",
    "input_4 = [\"india\",\"paris\",\"russia\",\"france\",\"germany\"]"
   ]
  },
  {
   "cell_type": "code",
   "execution_count": 4,
   "metadata": {},
   "outputs": [],
   "source": [
    "word_vectors = KeyedVectors.load_word2vec_format('GoogleNews-vectors-negative300.bin', binary=True, limit=500000)"
   ]
  },
  {
   "cell_type": "code",
   "execution_count": 6,
   "metadata": {},
   "outputs": [
    {
     "data": {
      "text/plain": [
       "(300,)"
      ]
     },
     "execution_count": 6,
     "metadata": {},
     "output_type": "execute_result"
    }
   ],
   "source": [
    "word_vectors['happy'].shape"
   ]
  },
  {
   "cell_type": "code",
   "execution_count": 34,
   "metadata": {},
   "outputs": [
    {
     "name": "stdout",
     "output_type": "stream",
     "text": [
      "(300,) (300,)\n"
     ]
    }
   ],
   "source": [
    "v1 = word_vectors['happy']\n",
    "v2 = word_vectors['sad']\n",
    "v3 = word_vectors['joy']\n",
    "\n",
    "print(v1.shape, v2.shape)"
   ]
  },
  {
   "cell_type": "code",
   "execution_count": 22,
   "metadata": {},
   "outputs": [],
   "source": [
    "import numpy as np"
   ]
  },
  {
   "cell_type": "code",
   "execution_count": 38,
   "metadata": {},
   "outputs": [
    {
     "name": "stdout",
     "output_type": "stream",
     "text": [
      "[[0.0570658]] [[0.53546154]]\n"
     ]
    }
   ],
   "source": [
    "print(cosine_similarity([v2],[v3]),cosine_similarity([v1],[v2]))"
   ]
  },
  {
   "cell_type": "code",
   "execution_count": 46,
   "metadata": {},
   "outputs": [],
   "source": [
    "def odd_one_out(words):\n",
    "    all_word_vectors = [word_vectors[word] for word in words]\n",
    "    avg_vector = np.mean(all_word_vectors,axis=0)\n",
    "    print(avg_vector.shape)\n",
    "    oddone = None\n",
    "    min_sim = 1.0\n",
    "    for word in words:\n",
    "        word_vec = word_vectors[word]\n",
    "        sim = cosine_similarity([word_vec],[avg_vector])\n",
    "        print('Similarity between %s and average vector is %.2f' %(word,sim))\n",
    "        if sim<min_sim:\n",
    "            oddone = word\n",
    "            min_sim = sim\n",
    "            \n",
    "    return oddone    "
   ]
  },
  {
   "cell_type": "code",
   "execution_count": 50,
   "metadata": {},
   "outputs": [
    {
     "name": "stdout",
     "output_type": "stream",
     "text": [
      "(300,)\n",
      "Similarity between india and average vector is 0.81\n",
      "Similarity between paris and average vector is 0.75\n",
      "Similarity between russia and average vector is 0.79\n",
      "Similarity between france and average vector is 0.81\n",
      "Similarity between germany and average vector is 0.84\n"
     ]
    },
    {
     "data": {
      "text/plain": [
       "'paris'"
      ]
     },
     "execution_count": 50,
     "metadata": {},
     "output_type": "execute_result"
    }
   ],
   "source": [
    "odd_one_out(input_4)"
   ]
  },
  {
   "cell_type": "markdown",
   "metadata": {},
   "source": [
    "## Analogies"
   ]
  },
  {
   "cell_type": "markdown",
   "metadata": {},
   "source": [
    "man -> woman ::     prince -> princess\n",
    "italy -> italian ::     spain -> spanish\n",
    "india -> delhi ::     japan -> tokyo\n",
    "man -> woman ::     boy -> girl\n",
    "small -> smaller ::     large -> larger"
   ]
  },
  {
   "cell_type": "code",
   "execution_count": null,
   "metadata": {},
   "outputs": [],
   "source": []
  }
 ],
 "metadata": {
  "kernelspec": {
   "display_name": "Python 3",
   "language": "python",
   "name": "python3"
  },
  "language_info": {
   "codemirror_mode": {
    "name": "ipython",
    "version": 3
   },
   "file_extension": ".py",
   "mimetype": "text/x-python",
   "name": "python",
   "nbconvert_exporter": "python",
   "pygments_lexer": "ipython3",
   "version": "3.7.3"
  }
 },
 "nbformat": 4,
 "nbformat_minor": 2
}
