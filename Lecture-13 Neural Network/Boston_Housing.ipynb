{
  "nbformat": 4,
  "nbformat_minor": 0,
  "metadata": {
    "colab": {
      "name": "Boston_Housing.ipynb",
      "version": "0.3.2",
      "provenance": []
    },
    "kernelspec": {
      "name": "python3",
      "display_name": "Python 3"
    }
  },
  "cells": [
    {
      "cell_type": "code",
      "metadata": {
        "id": "z3v6t9JYzNg6",
        "colab_type": "code",
        "colab": {
          "base_uri": "https://localhost:8080/",
          "height": 34
        },
        "outputId": "39d87caa-3482-4d40-d18e-b7ac0b846136"
      },
      "source": [
        "from keras.datasets import boston_housing"
      ],
      "execution_count": 1,
      "outputs": [
        {
          "output_type": "stream",
          "text": [
            "Using TensorFlow backend.\n"
          ],
          "name": "stderr"
        }
      ]
    },
    {
      "cell_type": "code",
      "metadata": {
        "id": "TYPebGqjzx75",
        "colab_type": "code",
        "colab": {}
      },
      "source": [
        "Train, Test = boston_housing.load_data()"
      ],
      "execution_count": 0,
      "outputs": []
    },
    {
      "cell_type": "code",
      "metadata": {
        "id": "pQMDnv1-z4gf",
        "colab_type": "code",
        "colab": {
          "base_uri": "https://localhost:8080/",
          "height": 51
        },
        "outputId": "9aca1d63-3383-4329-8521-ce0659c4de7b"
      },
      "source": [
        "XT,YT = Train\n",
        "print(XT.shape,YT.shape)\n",
        "Xt, Yt = Test\n",
        "print(Xt.shape,Yt.shape)"
      ],
      "execution_count": 15,
      "outputs": [
        {
          "output_type": "stream",
          "text": [
            "(404, 13) (404,)\n",
            "(102, 13) (102,)\n"
          ],
          "name": "stdout"
        }
      ]
    },
    {
      "cell_type": "code",
      "metadata": {
        "id": "mGCfii4Dz-Vd",
        "colab_type": "code",
        "colab": {}
      },
      "source": [
        "mean = XT.mean(axis=0)\n",
        "std = XT.std(axis=0)\n",
        "\n",
        "# Data Normalisation Step\n",
        "XT = (XT-mean)/std\n",
        "Xt = (Xt-mean)/std"
      ],
      "execution_count": 0,
      "outputs": []
    },
    {
      "cell_type": "code",
      "metadata": {
        "id": "Kb2G1acQ0JvJ",
        "colab_type": "code",
        "colab": {}
      },
      "source": [
        "# Build Our Neural Network Model\n",
        "from keras.models import Sequential\n",
        "from keras.layers import Dense\n",
        "import numpy as np\n",
        "from keras import backend as K\n",
        "\n",
        "def r2_score(y_true,y_pred):\n",
        "    \n",
        "    \n",
        "    num = K.sum(K.square(y_true-y_pred))\n",
        "    denom = K.sum(K.square(y_true- K.mean(y_true)))\n",
        "    return (1-num/denom)\n",
        "\n",
        "def getModel():\n",
        "    model = Sequential()\n",
        "    model.add(Dense(64,activation='relu',input_shape=(13,)))\n",
        "    model.add(Dense(32,activation='relu'))\n",
        "    model.add(Dense(1))\n",
        "    \n",
        "    model.compile(optimizer='adam',loss='mse',metrics=[r2_score])\n",
        "    return model\n",
        "    "
      ],
      "execution_count": 0,
      "outputs": []
    },
    {
      "cell_type": "code",
      "metadata": {
        "id": "3ypCExAP42Sn",
        "colab_type": "code",
        "colab": {
          "base_uri": "https://localhost:8080/",
          "height": 238
        },
        "outputId": "28013e86-f8df-40ab-d837-f16ce13a8482"
      },
      "source": [
        "model = getModel()\n",
        "model.summary()\n",
        "#hist = model.fit(XT,YT,verbose=1,epochs=)"
      ],
      "execution_count": 25,
      "outputs": [
        {
          "output_type": "stream",
          "text": [
            "_________________________________________________________________\n",
            "Layer (type)                 Output Shape              Param #   \n",
            "=================================================================\n",
            "dense_16 (Dense)             (None, 64)                896       \n",
            "_________________________________________________________________\n",
            "dense_17 (Dense)             (None, 32)                2080      \n",
            "_________________________________________________________________\n",
            "dense_18 (Dense)             (None, 1)                 33        \n",
            "=================================================================\n",
            "Total params: 3,009\n",
            "Trainable params: 3,009\n",
            "Non-trainable params: 0\n",
            "_________________________________________________________________\n"
          ],
          "name": "stdout"
        }
      ]
    },
    {
      "cell_type": "code",
      "metadata": {
        "id": "EU_rXuyz5ItC",
        "colab_type": "code",
        "colab": {
          "base_uri": "https://localhost:8080/",
          "height": 1000
        },
        "outputId": "6df071f7-7dc7-4f8b-a700-1bcd3682c261"
      },
      "source": [
        "hist = model.fit(XT,YT,epochs=30,validation_data=(Xt,Yt),verbose=1)"
      ],
      "execution_count": 26,
      "outputs": [
        {
          "output_type": "stream",
          "text": [
            "Train on 404 samples, validate on 102 samples\n",
            "Epoch 1/30\n",
            "404/404 [==============================] - 0s 992us/step - loss: 557.9547 - r2_score: -6.4975 - val_loss: 558.9702 - val_r2_score: -6.2839\n",
            "Epoch 2/30\n",
            "404/404 [==============================] - 0s 58us/step - loss: 508.1520 - r2_score: -5.6722 - val_loss: 500.4050 - val_r2_score: -5.5131\n",
            "Epoch 3/30\n",
            "404/404 [==============================] - 0s 53us/step - loss: 445.2363 - r2_score: -5.1222 - val_loss: 424.2359 - val_r2_score: -4.5154\n",
            "Epoch 4/30\n",
            "404/404 [==============================] - 0s 55us/step - loss: 367.3338 - r2_score: -3.6617 - val_loss: 330.7539 - val_r2_score: -3.2939\n",
            "Epoch 5/30\n",
            "404/404 [==============================] - 0s 52us/step - loss: 273.5656 - r2_score: -2.3729 - val_loss: 232.2295 - val_r2_score: -2.0108\n",
            "Epoch 6/30\n",
            "404/404 [==============================] - 0s 60us/step - loss: 182.7740 - r2_score: -1.3186 - val_loss: 145.6840 - val_r2_score: -0.8934\n",
            "Epoch 7/30\n",
            "404/404 [==============================] - 0s 60us/step - loss: 114.3969 - r2_score: -0.3771 - val_loss: 94.0647 - val_r2_score: -0.2377\n",
            "Epoch 8/30\n",
            "404/404 [==============================] - 0s 56us/step - loss: 80.2324 - r2_score: 0.0114 - val_loss: 71.3313 - val_r2_score: 0.0507\n",
            "Epoch 9/30\n",
            "404/404 [==============================] - 0s 59us/step - loss: 62.7197 - r2_score: 0.1665 - val_loss: 58.2660 - val_r2_score: 0.2264\n",
            "Epoch 10/30\n",
            "404/404 [==============================] - 0s 71us/step - loss: 51.2048 - r2_score: 0.3848 - val_loss: 49.2316 - val_r2_score: 0.3495\n",
            "Epoch 11/30\n",
            "404/404 [==============================] - 0s 54us/step - loss: 43.2635 - r2_score: 0.4639 - val_loss: 43.3491 - val_r2_score: 0.4302\n",
            "Epoch 12/30\n",
            "404/404 [==============================] - 0s 57us/step - loss: 37.5111 - r2_score: 0.5499 - val_loss: 39.5160 - val_r2_score: 0.4821\n",
            "Epoch 13/30\n",
            "404/404 [==============================] - 0s 71us/step - loss: 34.2172 - r2_score: 0.5779 - val_loss: 37.0076 - val_r2_score: 0.5170\n",
            "Epoch 14/30\n",
            "404/404 [==============================] - 0s 65us/step - loss: 31.3347 - r2_score: 0.5534 - val_loss: 34.8039 - val_r2_score: 0.5469\n",
            "Epoch 15/30\n",
            "404/404 [==============================] - 0s 62us/step - loss: 29.1509 - r2_score: 0.6454 - val_loss: 33.1306 - val_r2_score: 0.5703\n",
            "Epoch 16/30\n",
            "404/404 [==============================] - 0s 55us/step - loss: 27.5109 - r2_score: 0.6156 - val_loss: 32.0683 - val_r2_score: 0.5861\n",
            "Epoch 17/30\n",
            "404/404 [==============================] - 0s 57us/step - loss: 26.2545 - r2_score: 0.6575 - val_loss: 31.3797 - val_r2_score: 0.5969\n",
            "Epoch 18/30\n",
            "404/404 [==============================] - 0s 56us/step - loss: 24.6410 - r2_score: 0.6603 - val_loss: 30.3917 - val_r2_score: 0.6104\n",
            "Epoch 19/30\n",
            "404/404 [==============================] - 0s 56us/step - loss: 23.5235 - r2_score: 0.7124 - val_loss: 29.5487 - val_r2_score: 0.6226\n",
            "Epoch 20/30\n",
            "404/404 [==============================] - 0s 55us/step - loss: 22.3507 - r2_score: 0.7305 - val_loss: 28.6475 - val_r2_score: 0.6353\n",
            "Epoch 21/30\n",
            "404/404 [==============================] - 0s 48us/step - loss: 21.4713 - r2_score: 0.6941 - val_loss: 28.1970 - val_r2_score: 0.6422\n",
            "Epoch 22/30\n",
            "404/404 [==============================] - 0s 56us/step - loss: 20.4134 - r2_score: 0.7561 - val_loss: 27.2802 - val_r2_score: 0.6544\n",
            "Epoch 23/30\n",
            "404/404 [==============================] - 0s 52us/step - loss: 19.6622 - r2_score: 0.7683 - val_loss: 26.3672 - val_r2_score: 0.6666\n",
            "Epoch 24/30\n",
            "404/404 [==============================] - 0s 49us/step - loss: 18.7961 - r2_score: 0.7716 - val_loss: 26.3306 - val_r2_score: 0.6677\n",
            "Epoch 25/30\n",
            "404/404 [==============================] - 0s 48us/step - loss: 18.1037 - r2_score: 0.7635 - val_loss: 26.1610 - val_r2_score: 0.6703\n",
            "Epoch 26/30\n",
            "404/404 [==============================] - 0s 54us/step - loss: 17.3530 - r2_score: 0.7833 - val_loss: 25.3420 - val_r2_score: 0.6811\n",
            "Epoch 27/30\n",
            "404/404 [==============================] - 0s 60us/step - loss: 16.8527 - r2_score: 0.7891 - val_loss: 25.3180 - val_r2_score: 0.6818\n",
            "Epoch 28/30\n",
            "404/404 [==============================] - 0s 55us/step - loss: 16.3842 - r2_score: 0.7714 - val_loss: 24.2375 - val_r2_score: 0.6957\n",
            "Epoch 29/30\n",
            "404/404 [==============================] - 0s 57us/step - loss: 15.7559 - r2_score: 0.8112 - val_loss: 25.0039 - val_r2_score: 0.6859\n",
            "Epoch 30/30\n",
            "404/404 [==============================] - 0s 55us/step - loss: 15.2999 - r2_score: 0.8020 - val_loss: 24.7189 - val_r2_score: 0.6899\n"
          ],
          "name": "stdout"
        }
      ]
    },
    {
      "cell_type": "code",
      "metadata": {
        "id": "4zasRMbG6qEt",
        "colab_type": "code",
        "colab": {}
      },
      "source": [
        "hist.history?"
      ],
      "execution_count": 0,
      "outputs": []
    },
    {
      "cell_type": "code",
      "metadata": {
        "id": "jVtmvMBD7QCh",
        "colab_type": "code",
        "colab": {}
      },
      "source": [
        "val_loss = hist.history['val_loss']\n",
        "train_loss = hist.history['loss']"
      ],
      "execution_count": 0,
      "outputs": []
    },
    {
      "cell_type": "code",
      "metadata": {
        "id": "WBg7NayQ7YX9",
        "colab_type": "code",
        "colab": {
          "base_uri": "https://localhost:8080/",
          "height": 269
        },
        "outputId": "be2a840c-dca2-4510-e660-db11698b36e3"
      },
      "source": [
        "import matplotlib.pyplot as plt\n",
        "\n",
        "plt.plot(val_loss,label=\"Val Loss \")\n",
        "plt.plot(train_loss,label=\"Train Loss\")\n",
        "plt.legend()\n",
        "plt.show()"
      ],
      "execution_count": 30,
      "outputs": [
        {
          "output_type": "display_data",
          "data": {
            "image/png": "[encoded data removed]",
            "text/plain": [
              "<Figure size 432x288 with 1 Axes>"
            ]
          },
          "metadata": {
            "tags": []
          }
        }
      ]
    },
    {
      "cell_type": "code",
      "metadata": {
        "id": "B1oLN8DS7yj4",
        "colab_type": "code",
        "colab": {}
      },
      "source": [
        "r2_score_train = hist.history['r2_score']\n",
        "r2_score_val = hist.history['val_r2_score']"
      ],
      "execution_count": 0,
      "outputs": []
    },
    {
      "cell_type": "code",
      "metadata": {
        "id": "OFTDSUeJ-aTQ",
        "colab_type": "code",
        "colab": {
          "base_uri": "https://localhost:8080/",
          "height": 295
        },
        "outputId": "a8f75663-943b-4d97-c238-2236382772c9"
      },
      "source": [
        "plt.plot(r2_score_train,label=\"Train Score\")\n",
        "plt.plot(r2_score_val,label=\"Val Score\")\n",
        "plt.legend()\n",
        "plt.title(\"R2 score\")\n",
        "plt.xlabel(\"Epochs\")\n",
        "plt.ylabel(\"R2 score\")\n",
        "plt.show()\n"
      ],
      "execution_count": 36,
      "outputs": [
        {
          "output_type": "display_data",
          "data": {
            "image/png": "[encoded data removed]",
            "text/plain": [
              "<Figure size 432x288 with 1 Axes>"
            ]
          },
          "metadata": {
            "tags": []
          }
        }
      ]
    },
    {
      "cell_type": "code",
      "metadata": {
        "id": "bZDU_AnA-tbd",
        "colab_type": "code",
        "colab": {
          "base_uri": "https://localhost:8080/",
          "height": 51
        },
        "outputId": "3b903123-c6a4-4c41-bad5-f27e12751ce8"
      },
      "source": [
        "r2_score = model.evaluate(Xt,Yt)[1]\n",
        "print(r2_score)"
      ],
      "execution_count": 41,
      "outputs": [
        {
          "output_type": "stream",
          "text": [
            "102/102 [==============================] - 0s 50us/step\n",
            "0.6898677372464946\n"
          ],
          "name": "stdout"
        }
      ]
    },
    {
      "cell_type": "code",
      "metadata": {
        "id": "YMISq5Eq_dQr",
        "colab_type": "code",
        "colab": {
          "base_uri": "https://localhost:8080/",
          "height": 1000
        },
        "outputId": "4d2dcbc0-84b1-44f0-aa6b-69b2c4459e4d"
      },
      "source": [
        "model.predict(Xt)"
      ],
      "execution_count": 42,
      "outputs": [
        {
          "output_type": "execute_result",
          "data": {
            "text/plain": [
              "array([[10.777111 ],\n",
              "       [15.797907 ],\n",
              "       [22.19606  ],\n",
              "       [33.792984 ],\n",
              "       [26.893496 ],\n",
              "       [15.776882 ],\n",
              "       [25.534527 ],\n",
              "       [22.252895 ],\n",
              "       [19.901382 ],\n",
              "       [19.377182 ],\n",
              "       [14.6543045],\n",
              "       [16.72829  ],\n",
              "       [17.91956  ],\n",
              "       [42.995403 ],\n",
              "       [17.912703 ],\n",
              "       [18.736366 ],\n",
              "       [28.104275 ],\n",
              "       [19.50152  ],\n",
              "       [17.686733 ],\n",
              "       [29.317295 ],\n",
              "       [13.540848 ],\n",
              "       [14.27207  ],\n",
              "       [19.919239 ],\n",
              "       [12.920851 ],\n",
              "       [24.151909 ],\n",
              "       [20.450705 ],\n",
              "       [32.484295 ],\n",
              "       [29.937069 ],\n",
              "       [12.864444 ],\n",
              "       [21.99556  ],\n",
              "       [17.841145 ],\n",
              "       [15.660516 ],\n",
              "       [31.920015 ],\n",
              "       [26.427963 ],\n",
              "       [16.020092 ],\n",
              "       [10.242045 ],\n",
              "       [14.538727 ],\n",
              "       [15.14757  ],\n",
              "       [22.45066  ],\n",
              "       [27.363022 ],\n",
              "       [28.578426 ],\n",
              "       [29.082281 ],\n",
              "       [16.694172 ],\n",
              "       [38.473476 ],\n",
              "       [32.7933   ],\n",
              "       [25.401299 ],\n",
              "       [25.34203  ],\n",
              "       [14.595257 ],\n",
              "       [20.580708 ],\n",
              "       [23.110527 ],\n",
              "       [33.57476  ],\n",
              "       [16.920288 ],\n",
              "       [14.947789 ],\n",
              "       [14.866031 ],\n",
              "       [32.555965 ],\n",
              "       [29.172565 ],\n",
              "       [15.309685 ],\n",
              "       [49.09978  ],\n",
              "       [32.875355 ],\n",
              "       [25.06491  ],\n",
              "       [21.177582 ],\n",
              "       [18.053743 ],\n",
              "       [15.530836 ],\n",
              "       [16.356007 ],\n",
              "       [24.226086 ],\n",
              "       [25.54875  ],\n",
              "       [15.48949  ],\n",
              "       [23.746447 ],\n",
              "       [16.307789 ],\n",
              "       [10.720209 ],\n",
              "       [29.866451 ],\n",
              "       [28.579334 ],\n",
              "       [21.198175 ],\n",
              "       [18.225971 ],\n",
              "       [24.727638 ],\n",
              "       [16.358597 ],\n",
              "       [20.657307 ],\n",
              "       [23.95811  ],\n",
              "       [36.543526 ],\n",
              "       [12.971974 ],\n",
              "       [17.700138 ],\n",
              "       [40.678112 ],\n",
              "       [14.359968 ],\n",
              "       [15.993272 ],\n",
              "       [16.953918 ],\n",
              "       [16.334518 ],\n",
              "       [18.417088 ],\n",
              "       [23.49883  ],\n",
              "       [24.806355 ],\n",
              "       [24.417416 ],\n",
              "       [18.50349  ],\n",
              "       [21.286293 ],\n",
              "       [24.88319  ],\n",
              "       [37.24325  ],\n",
              "       [36.8318   ],\n",
              "       [19.492722 ],\n",
              "       [39.016407 ],\n",
              "       [46.66463  ],\n",
              "       [26.820992 ],\n",
              "       [47.62727  ],\n",
              "       [34.337894 ],\n",
              "       [18.550945 ]], dtype=float32)"
            ]
          },
          "metadata": {
            "tags": []
          },
          "execution_count": 42
        }
      ]
    },
    {
      "cell_type": "code",
      "metadata": {
        "id": "RyxIpYtI_uLV",
        "colab_type": "code",
        "colab": {}
      },
      "source": [
        ""
      ],
      "execution_count": 0,
      "outputs": []
    }
  ]
}